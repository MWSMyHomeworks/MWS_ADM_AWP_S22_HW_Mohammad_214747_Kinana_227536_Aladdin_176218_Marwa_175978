{
 "cells": [
  {
   "cell_type": "code",
   "execution_count": 1,
   "metadata": {
    "collapsed": true,
    "pycharm": {
     "name": "#%%\n"
    }
   },
   "outputs": [
    {
     "name": "stdout",
     "output_type": "stream",
     "text": [
      "['Yes']\n",
      "['Yes']\n",
      "['Yes']\n",
      "['Yes']\n",
      "['Yes']\n"
     ]
    },
    {
     "name": "stderr",
     "output_type": "stream",
     "text": [
      "c:\\Python310\\lib\\site-packages\\sklearn\\base.py:450: UserWarning: X does not have valid feature names, but LogisticRegression was fitted with feature names\n",
      "  warnings.warn(\n",
      "c:\\Python310\\lib\\site-packages\\sklearn\\base.py:450: UserWarning: X does not have valid feature names, but CategoricalNB was fitted with feature names\n",
      "  warnings.warn(\n",
      "c:\\Python310\\lib\\site-packages\\sklearn\\base.py:450: UserWarning: X does not have valid feature names, but KNeighborsRegressor was fitted with feature names\n",
      "  warnings.warn(\n",
      "c:\\Python310\\lib\\site-packages\\sklearn\\base.py:450: UserWarning: X does not have valid feature names, but SVC was fitted with feature names\n",
      "  warnings.warn(\n"
     ]
    }
   ],
   "source": [
    "from predictFunction import predictResult\n",
    "examples = [[0, 1, 2, 1, 0, 4006, 1526, 168, 360, 1]]\n",
    "print(predictResult(examples, 'TrainedModels/DTmodel'))\n",
    "print(predictResult(examples, 'TrainedModels/LRmodel'))\n",
    "print(predictResult(examples, 'TrainedModels/Bmodel'))\n",
    "print(predictResult(examples, 'TrainedModels/KNNmodel'))\n",
    "print(predictResult(examples, 'TrainedModels/SVMmodel'))"
   ]
  },
  {
   "cell_type": "code",
   "execution_count": 2,
   "metadata": {
    "collapsed": false,
    "pycharm": {
     "name": "#%%\n"
    }
   },
   "outputs": [
    {
     "name": "stdout",
     "output_type": "stream",
     "text": [
      "           |    Decision Tree    | Logistic Regression |        Bayes        |         KNN         |         SVM         \n",
      "-------------------------------------------------------------------------------------------------------------------------\n",
      "Accuracy   |        75.74        |        70.41        |        75.15        |        65.68        |        56.80        \n",
      "Precision  |        73.33        |        63.64        |        69.16        |        64.37        |        55.95        \n",
      "Recall     |        79.52        |        92.77        |        89.16        |        67.47        |        56.63        \n",
      "F1         |        76.30        |        75.49        |        77.89        |        65.88        |        56.29        \n",
      "AUC        |        75.81        |        70.80        |        75.39        |        65.71        |        56.80        \n",
      "-------------------------------------------------------------------------------------------------------------------------\n"
     ]
    }
   ],
   "source": [
    "from helpers import printAllScores, getScoresJsonObjectFromSavedFile\n",
    "scoresSample = getScoresJsonObjectFromSavedFile('2022-09-18T05_18_AM')\n",
    "printAllScores(scoresSample)"
   ]
  },
  {
   "cell_type": "code",
   "execution_count": 3,
   "metadata": {
    "collapsed": false,
    "pycharm": {
     "name": "#%%\n"
    }
   },
   "outputs": [
    {
     "name": "stdout",
     "output_type": "stream",
     "text": [
      "           |    Decision Tree    | Logistic Regression |        Bayes        |         KNN         |         SVM         \n",
      "-------------------------------------------------------------------------------------------------------------------------\n",
      "Accuracy   |        78.70        |        72.78        |        77.51        |        59.76        |        52.66        \n",
      "Precision  |        79.01        |        65.29        |        71.43        |        58.06        |        51.69        \n",
      "Recall     |        77.11        |        95.18        |        90.36        |        65.06        |        55.42        \n",
      "F1         |        78.05        |        77.45        |        79.79        |        61.36        |        53.49        \n",
      "AUC        |        78.67        |        73.17        |        77.74        |        59.86        |        52.71        \n",
      "-------------------------------------------------------------------------------------------------------------------------\n"
     ]
    }
   ],
   "source": [
    "scoresSample = getScoresJsonObjectFromSavedFile('2022-10-01T04_28_AM')\n",
    "printAllScores(scoresSample)"
   ]
  }
 ],
 "metadata": {
  "kernelspec": {
   "display_name": "Python 3.10.4 64-bit",
   "language": "python",
   "name": "python3"
  },
  "language_info": {
   "codemirror_mode": {
    "name": "ipython",
    "version": 3
   },
   "file_extension": ".py",
   "mimetype": "text/x-python",
   "name": "python",
   "nbconvert_exporter": "python",
   "pygments_lexer": "ipython3",
   "version": "3.10.4"
  },
  "vscode": {
   "interpreter": {
    "hash": "369f2c481f4da34e4445cda3fffd2e751bd1c4d706f27375911949ba6bb62e1c"
   }
  }
 },
 "nbformat": 4,
 "nbformat_minor": 0
}
