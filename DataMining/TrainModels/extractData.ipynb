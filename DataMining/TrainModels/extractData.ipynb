{
 "cells": [
  {
   "cell_type": "code",
   "execution_count": 1,
   "metadata": {
    "collapsed": true,
    "pycharm": {
     "name": "#%%\n"
    }
   },
   "outputs": [
    {
     "name": "stdout",
     "output_type": "stream",
     "text": [
      "['Yes']\n",
      "['Yes']\n",
      "['Yes']\n",
      "['Yes']\n",
      "['Yes']\n"
     ]
    },
    {
     "name": "stderr",
     "output_type": "stream",
     "text": [
      "C:\\Python310\\lib\\site-packages\\sklearn\\base.py:450: UserWarning: X does not have valid feature names, but LogisticRegression was fitted with feature names\n",
      "  warnings.warn(\n",
      "C:\\Python310\\lib\\site-packages\\sklearn\\base.py:450: UserWarning: X does not have valid feature names, but CategoricalNB was fitted with feature names\n",
      "  warnings.warn(\n",
      "C:\\Python310\\lib\\site-packages\\sklearn\\base.py:450: UserWarning: X does not have valid feature names, but KNeighborsRegressor was fitted with feature names\n",
      "  warnings.warn(\n",
      "C:\\Python310\\lib\\site-packages\\sklearn\\base.py:450: UserWarning: X does not have valid feature names, but SVC was fitted with feature names\n",
      "  warnings.warn(\n"
     ]
    }
   ],
   "source": [
    "from predictFunction import predictResult\n",
    "examples = [[0, 1, 2, 1, 0, 4006, 1526, 168, 360, 1]]\n",
    "print(predictResult(examples, 'TrainedModels/DTmodel'))\n",
    "print(predictResult(examples, 'TrainedModels/LRmodel'))\n",
    "print(predictResult(examples, 'TrainedModels/Bmodel'))\n",
    "print(predictResult(examples, 'TrainedModels/KNNmodel'))\n",
    "print(predictResult(examples, 'TrainedModels/SVMmodel'))"
   ]
  },
  {
   "cell_type": "code",
   "execution_count": 2,
   "outputs": [
    {
     "name": "stdout",
     "output_type": "stream",
     "text": [
      "           |    Decision Tree    | Logistic Regression |        Bayes        |         KNN         |         SVM         \n",
      "-------------------------------------------------------------------------------------------------------------------------\n",
      "Accuracy   |        75.74        |        72.19        |        78.11        |        63.91        |        46.15        \n",
      "Precision  |        74.07        |        64.86        |        70.87        |        61.73        |        46.67        \n",
      "Recall     |        75.00        |        90.00        |        91.25        |        62.50        |        96.25        \n",
      "F1         |        74.53        |        75.39        |        79.78        |        62.11        |        62.86        \n",
      "AUC        |        75.70        |        73.09        |        78.77        |        63.83        |        48.69        \n",
      "-------------------------------------------------------------------------------------------------------------------------\n"
     ]
    }
   ],
   "source": [
    "from helpers import printAllScores, getScoresJsonObjectFromSavedFile\n",
    "\n",
    "scoresSample = getScoresJsonObjectFromSavedFile('2022-09-02T07_30_PM')\n",
    "printAllScores(scoresSample)"
   ],
   "metadata": {
    "collapsed": false,
    "pycharm": {
     "name": "#%%\n"
    }
   }
  },
  {
   "cell_type": "code",
   "execution_count": 3,
   "outputs": [
    {
     "name": "stdout",
     "output_type": "stream",
     "text": [
      "           |    Decision Tree    | Logistic Regression |        Bayes        |         KNN         |         SVM         \n",
      "-------------------------------------------------------------------------------------------------------------------------\n",
      "Accuracy   |        78.11        |        73.96        |        79.29        |        63.91        |        49.11        \n",
      "Precision  |        80.00        |        69.52        |        75.00        |        66.22        |        49.68        \n",
      "Recall     |        75.29        |        85.88        |        88.24        |        57.65        |        90.59        \n",
      "F1         |        77.58        |        76.84        |        81.08        |        61.64        |        64.17        \n",
      "AUC        |        78.12        |        73.89        |        79.24        |        63.94        |        48.87        \n",
      "-------------------------------------------------------------------------------------------------------------------------\n"
     ]
    }
   ],
   "source": [
    "scoresSample = getScoresJsonObjectFromSavedFile('2022-09-02T07_32_PM')\n",
    "printAllScores(scoresSample)"
   ],
   "metadata": {
    "collapsed": false,
    "pycharm": {
     "name": "#%%\n"
    }
   }
  },
  {
   "cell_type": "code",
   "execution_count": 4,
   "outputs": [
    {
     "name": "stdout",
     "output_type": "stream",
     "text": [
      "           |    Decision Tree    | Logistic Regression |        Bayes        |         KNN         |         SVM         \n",
      "-------------------------------------------------------------------------------------------------------------------------\n",
      "Accuracy   |        79.29        |        72.78        |        74.56        |        60.36        |        52.07        \n",
      "Precision  |        75.00        |        66.97        |        70.83        |        61.76        |        51.67        \n",
      "Recall     |        86.75        |        87.95        |        81.93        |        50.60        |        37.35        \n",
      "F1         |        80.45        |        76.04        |        75.98        |        55.63        |        43.36        \n",
      "AUC        |        79.42        |        73.05        |        74.68        |        60.18        |        51.81        \n",
      "-------------------------------------------------------------------------------------------------------------------------\n"
     ]
    }
   ],
   "source": [
    "scoresSample = getScoresJsonObjectFromSavedFile('2022-09-07T03_55_AM')\n",
    "printAllScores(scoresSample)"
   ],
   "metadata": {
    "collapsed": false,
    "pycharm": {
     "name": "#%%\n"
    }
   }
  },
  {
   "cell_type": "code",
   "execution_count": 5,
   "outputs": [
    {
     "name": "stdout",
     "output_type": "stream",
     "text": [
      "           |    Decision Tree    | Logistic Regression |        Bayes        |         KNN         |         SVM         \n",
      "-------------------------------------------------------------------------------------------------------------------------\n",
      "Accuracy   |        79.88        |        71.60        |        74.56        |        63.31        |        56.80        \n",
      "Precision  |        78.16        |        64.71        |        68.18        |        62.65        |        55.81        \n",
      "Recall     |        81.93        |        92.77        |        90.36        |        62.65        |        57.83        \n",
      "F1         |        80.00        |        76.24        |        77.72        |        62.65        |        56.80        \n",
      "AUC        |        79.92        |        71.97        |        74.83        |        63.30        |        56.82        \n",
      "-------------------------------------------------------------------------------------------------------------------------\n"
     ]
    }
   ],
   "source": [
    "scoresSample = getScoresJsonObjectFromSavedFile('2022-09-17T02_49_AM')\n",
    "printAllScores(scoresSample)"
   ],
   "metadata": {
    "collapsed": false,
    "pycharm": {
     "name": "#%%\n"
    }
   }
  },
  {
   "cell_type": "code",
   "execution_count": 7,
   "outputs": [
    {
     "name": "stdout",
     "output_type": "stream",
     "text": [
      "           |    Decision Tree    | Logistic Regression |        Bayes        |         KNN         |         SVM         \n",
      "-------------------------------------------------------------------------------------------------------------------------\n",
      "Accuracy   |        82.84        |        74.56        |        75.74        |        66.27        |        58.58        \n",
      "Precision  |        82.14        |        67.24        |        70.59        |        65.12        |        57.47        \n",
      "Recall     |        83.13        |        93.98        |        86.75        |        67.47        |        60.24        \n",
      "F1         |        82.63        |        78.39        |        77.84        |        66.27        |        58.82        \n",
      "AUC        |        82.85        |        74.89        |        75.93        |        66.29        |        58.61        \n",
      "-------------------------------------------------------------------------------------------------------------------------\n"
     ]
    }
   ],
   "source": [
    "scoresSample = getScoresJsonObjectFromSavedFile('2022-09-17T03_18_AM')\n",
    "printAllScores(scoresSample)"
   ],
   "metadata": {
    "collapsed": false,
    "pycharm": {
     "name": "#%%\n"
    }
   }
  }
 ],
 "metadata": {
  "kernelspec": {
   "display_name": "Python 3",
   "language": "python",
   "name": "python3"
  },
  "language_info": {
   "codemirror_mode": {
    "name": "ipython",
    "version": 2
   },
   "file_extension": ".py",
   "mimetype": "text/x-python",
   "name": "python",
   "nbconvert_exporter": "python",
   "pygments_lexer": "ipython2",
   "version": "2.7.6"
  }
 },
 "nbformat": 4,
 "nbformat_minor": 0
}